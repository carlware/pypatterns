{
 "cells": [
  {
   "cell_type": "markdown",
   "metadata": {},
   "source": [
    "## simple decorator"
   ]
  },
  {
   "cell_type": "code",
   "execution_count": null,
   "metadata": {
    "collapsed": false
   },
   "outputs": [],
   "source": [
    "from decorator_ex.tags import add_tag"
   ]
  },
  {
   "cell_type": "code",
   "execution_count": null,
   "metadata": {
    "collapsed": true
   },
   "outputs": [],
   "source": [
    "@add_tag(tag='h1')\n",
    "def add_name(names):\n",
    "    return ' '.join(names)"
   ]
  },
  {
   "cell_type": "code",
   "execution_count": null,
   "metadata": {
    "collapsed": false
   },
   "outputs": [],
   "source": [
    "add_name(['Joe', 'John', 'Doe'])"
   ]
  },
  {
   "cell_type": "code",
   "execution_count": null,
   "metadata": {
    "collapsed": true
   },
   "outputs": [],
   "source": []
  },
  {
   "cell_type": "markdown",
   "metadata": {
    "collapsed": true
   },
   "source": [
    "## dynamic decorator"
   ]
  },
  {
   "cell_type": "code",
   "execution_count": 1,
   "metadata": {
    "collapsed": true
   },
   "outputs": [],
   "source": [
    "from decorator_ex.dynamic import TextField, BorderDecorator, ScrollBarDecorator"
   ]
  },
  {
   "cell_type": "code",
   "execution_count": 2,
   "metadata": {
    "collapsed": false
   },
   "outputs": [
    {
     "name": "stdout",
     "output_type": "stream",
     "text": [
      "start textfield \n",
      "\n",
      "To move, to breathe, to fly, to float\n",
      "To gain all while you give,\n",
      "To roam the roads of lands remote,\n",
      "To travel is to live.\n",
      "-- H.C Andersen\n",
      "\n",
      "end textfield\n"
     ]
    }
   ],
   "source": [
    "# without decorator\n",
    "tf = TextField()\n",
    "tf.add_content('To move, to breathe, to fly, to float')\n",
    "tf.add_content('To gain all while you give,')\n",
    "tf.add_content('To roam the roads of lands remote,')\n",
    "tf.add_content('To travel is to live.')\n",
    "tf.add_content('-- H.C Andersen')\n",
    "tf.paint()"
   ]
  },
  {
   "cell_type": "code",
   "execution_count": 3,
   "metadata": {
    "collapsed": false
   },
   "outputs": [
    {
     "name": "stdout",
     "output_type": "stream",
     "text": [
      "render before text_field\n",
      "start textfield \n",
      "\n",
      "To move, to breathe, to fly, to float\n",
      "To gain all while you give,\n",
      "To roam the roads of lands remote,\n",
      "To travel is to live.\n",
      "-- H.C Andersen\n",
      "\n",
      "end textfield\n",
      "render after text_field\n"
     ]
    }
   ],
   "source": [
    "# with decorator\n",
    "tf = TextField()\n",
    "tf.add_content('To move, to breathe, to fly, to float')\n",
    "tf.add_content('To gain all while you give,')\n",
    "tf.add_content('To roam the roads of lands remote,')\n",
    "tf.add_content('To travel is to live.')\n",
    "tf.add_content('-- H.C Andersen')\n",
    "\n",
    "tf = BorderDecorator(tf)\n",
    "tf.paint()"
   ]
  },
  {
   "cell_type": "markdown",
   "metadata": {},
   "source": [
    "### adding scrollbar decorator"
   ]
  },
  {
   "cell_type": "markdown",
   "metadata": {},
   "source": [
    "* In this example the textfield class does not have to be modified in order to add Scrollbar.\n",
    "* But the price is to use two loops"
   ]
  },
  {
   "cell_type": "code",
   "execution_count": 4,
   "metadata": {
    "collapsed": false
   },
   "outputs": [
    {
     "name": "stdout",
     "output_type": "stream",
     "text": [
      "render before text_field\n",
      "scrollbar decorator init\n",
      "adding scrollbar\n",
      "render before text_field\n",
      "start textfield \n",
      "\n",
      "To move, to breathe, to fly, to float\n",
      "To gain all while you give,\n",
      "To roam the roads of lands remote,\n",
      "To travel is to live.\n",
      "-- H.C Andersen\n",
      "\n",
      "end textfield\n",
      "render after text_field\n",
      "render after text_field\n"
     ]
    }
   ],
   "source": [
    "tf = TextField()\n",
    "tf.add_content('To move, to breathe, to fly, to float')\n",
    "tf.add_content('To gain all while you give,')\n",
    "tf.add_content('To roam the roads of lands remote,')\n",
    "tf.add_content('To travel is to live.')\n",
    "tf.add_content('-- H.C Andersen')\n",
    "\n",
    "tf = BorderDecorator(tf)\n",
    "tf = ScrollBarDecorator(tf)\n",
    "tf = BorderDecorator(tf)\n",
    "\n",
    "tf.paint()"
   ]
  },
  {
   "cell_type": "code",
   "execution_count": null,
   "metadata": {
    "collapsed": true
   },
   "outputs": [],
   "source": []
  },
  {
   "cell_type": "markdown",
   "metadata": {},
   "source": [
    "## using dynamic and chaning textfield"
   ]
  },
  {
   "cell_type": "code",
   "execution_count": null,
   "metadata": {
    "collapsed": false
   },
   "outputs": [],
   "source": [
    "from decorator_ex.dynamic2 import TextField, BorderDecorator, ScrollBarDecorator"
   ]
  },
  {
   "cell_type": "code",
   "execution_count": null,
   "metadata": {
    "collapsed": false
   },
   "outputs": [],
   "source": [
    "tf = TextField()\n",
    "tf = tf.add_content('To move, to breathe, to fly, to float')\n",
    "tf = tf.add_content('To gain all while you give,')\n",
    "# tf = tf.add_content('To roam the roads of lands remote,')\n",
    "# tf = tf.add_content('To travel is to live.')\n",
    "# tf = tf.add_content('-- H.C Andersen')\n",
    "\n",
    "tf = BorderDecorator(tf)\n",
    "tf.paint()"
   ]
  },
  {
   "cell_type": "code",
   "execution_count": null,
   "metadata": {
    "collapsed": true
   },
   "outputs": [],
   "source": []
  },
  {
   "cell_type": "code",
   "execution_count": null,
   "metadata": {
    "collapsed": true
   },
   "outputs": [],
   "source": []
  }
 ],
 "metadata": {
  "kernelspec": {
   "display_name": "Python 2",
   "language": "python",
   "name": "python2"
  },
  "language_info": {
   "codemirror_mode": {
    "name": "ipython",
    "version": 2
   },
   "file_extension": ".py",
   "mimetype": "text/x-python",
   "name": "python",
   "nbconvert_exporter": "python",
   "pygments_lexer": "ipython2",
   "version": "2.7.5"
  }
 },
 "nbformat": 4,
 "nbformat_minor": 1
}
