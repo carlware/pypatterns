{
 "cells": [
  {
   "cell_type": "markdown",
   "metadata": {},
   "source": [
    "## Graphics example"
   ]
  },
  {
   "cell_type": "code",
   "execution_count": 1,
   "metadata": {
    "collapsed": true
   },
   "outputs": [],
   "source": [
    "from prototype.graphics.tools import Video, Image, GraphicTool"
   ]
  },
  {
   "cell_type": "code",
   "execution_count": 2,
   "metadata": {
    "collapsed": true
   },
   "outputs": [],
   "source": [
    "image = Image('http://images.io/my_image.jpg')"
   ]
  },
  {
   "cell_type": "code",
   "execution_count": 3,
   "metadata": {
    "collapsed": false
   },
   "outputs": [
    {
     "name": "stdout",
     "output_type": "stream",
     "text": [
      "image url: http://images.io/my_image.jpg\n"
     ]
    }
   ],
   "source": [
    "# cloning by prototype\n",
    "tool = GraphicTool(image)\n",
    "img2 = tool.create_tool()\n",
    "print(\"image url: {}\".format(img2.get_state()))\n",
    "assert id(image) is not id(img2) "
   ]
  },
  {
   "cell_type": "code",
   "execution_count": 4,
   "metadata": {
    "collapsed": false
   },
   "outputs": [
    {
     "name": "stdout",
     "output_type": "stream",
     "text": [
      "vieo url: http://video.io/my_video2.mp4\n"
     ]
    }
   ],
   "source": [
    "# also we only need one tool\n",
    "video = Video('http://video.io/my_video.mp4')\n",
    "tool.graphic = video\n",
    "\n",
    "# state is retain\n",
    "video.url = 'http://video.io/my_video2.mp4'\n",
    "vid2 = tool.create_tool()\n",
    "print(\"vieo url: {}\".format(vid2.get_state()))\n",
    "assert id(image) is not id(vid2) "
   ]
  },
  {
   "cell_type": "code",
   "execution_count": null,
   "metadata": {
    "collapsed": true
   },
   "outputs": [],
   "source": []
  },
  {
   "cell_type": "code",
   "execution_count": null,
   "metadata": {
    "collapsed": true
   },
   "outputs": [],
   "source": []
  },
  {
   "cell_type": "markdown",
   "metadata": {},
   "source": [
    "## book example"
   ]
  },
  {
   "cell_type": "markdown",
   "metadata": {},
   "source": [
    "this example tracks all books by cid"
   ]
  },
  {
   "cell_type": "code",
   "execution_count": 5,
   "metadata": {
    "collapsed": true
   },
   "outputs": [],
   "source": [
    "from prototype.book import Book, ProtoBook"
   ]
  },
  {
   "cell_type": "code",
   "execution_count": 6,
   "metadata": {
    "collapsed": true
   },
   "outputs": [],
   "source": [
    "b1 = Book('The C Programming Language', \n",
    "          ('Brian W. Kernighan', 'Dennis M.Ritchie'), \n",
    "          price=118, \n",
    "          publisher='Prentice Hall',\n",
    "          length=228, \n",
    "          publication_date='1978-02-22', \n",
    "          tags=('C','programming', 'algorithms', 'data structures'))"
   ]
  },
  {
   "cell_type": "code",
   "execution_count": 8,
   "metadata": {
    "collapsed": false
   },
   "outputs": [],
   "source": [
    "prototype = ProtoBook()\n",
    "cid = 'k&r-first'\n",
    "prototype.register(cid, b1)"
   ]
  },
  {
   "cell_type": "code",
   "execution_count": 9,
   "metadata": {
    "collapsed": true
   },
   "outputs": [],
   "source": [
    "b2 = prototype.clone(cid, \n",
    "                     name='The C Programming Language(ANSI)', \n",
    "                     price=48.99, length=274,\n",
    "                     publication_date='1988-04-01', edition=2)"
   ]
  },
  {
   "cell_type": "code",
   "execution_count": 10,
   "metadata": {
    "collapsed": true
   },
   "outputs": [],
   "source": [
    "assert id(b2) is not b1"
   ]
  },
  {
   "cell_type": "code",
   "execution_count": 11,
   "metadata": {
    "collapsed": false
   },
   "outputs": [
    {
     "name": "stdout",
     "output_type": "stream",
     "text": [
      "authors: ('Brian W. Kernighan', 'Dennis M.Ritchie')\n",
      "length: 228\n",
      "name: The C Programming Language\n",
      "price: 118$\n",
      "publication_date: 1978-02-22\n",
      "publisher: Prentice Hall\n",
      "tags: ('C', 'programming', 'algorithms', 'data structures')\n",
      "\n"
     ]
    }
   ],
   "source": [
    "print(b1)"
   ]
  },
  {
   "cell_type": "code",
   "execution_count": 12,
   "metadata": {
    "collapsed": false
   },
   "outputs": [
    {
     "name": "stdout",
     "output_type": "stream",
     "text": [
      "authors: ('Brian W. Kernighan', 'Dennis M.Ritchie')\n",
      "edition: 2\n",
      "length: 274\n",
      "name: The C Programming Language(ANSI)\n",
      "price: 48.99$\n",
      "publication_date: 1988-04-01\n",
      "publisher: Prentice Hall\n",
      "tags: ('C', 'programming', 'algorithms', 'data structures')\n",
      "\n"
     ]
    }
   ],
   "source": [
    "print(b2)"
   ]
  },
  {
   "cell_type": "code",
   "execution_count": null,
   "metadata": {
    "collapsed": true
   },
   "outputs": [],
   "source": []
  }
 ],
 "metadata": {
  "kernelspec": {
   "display_name": "Python 2",
   "language": "python",
   "name": "python2"
  },
  "language_info": {
   "codemirror_mode": {
    "name": "ipython",
    "version": 2
   },
   "file_extension": ".py",
   "mimetype": "text/x-python",
   "name": "python",
   "nbconvert_exporter": "python",
   "pygments_lexer": "ipython2",
   "version": "2.7.5"
  }
 },
 "nbformat": 4,
 "nbformat_minor": 2
}
