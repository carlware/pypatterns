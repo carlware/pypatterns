{
 "cells": [
  {
   "cell_type": "markdown",
   "metadata": {},
   "source": [
    "## before"
   ]
  },
  {
   "cell_type": "code",
   "execution_count": 5,
   "metadata": {
    "collapsed": true
   },
   "outputs": [],
   "source": [
    "from facade.ex1.cpu import FileServer, ProcessServer"
   ]
  },
  {
   "cell_type": "markdown",
   "metadata": {},
   "source": [
    "## to much complexity for the client"
   ]
  },
  {
   "cell_type": "code",
   "execution_count": 7,
   "metadata": {
    "collapsed": false
   },
   "outputs": [
    {
     "name": "stdout",
     "output_type": "stream",
     "text": [
      "booting the FileServer\n",
      "booting the ProcessServer\n",
      "trying to create the file 'hello' for user 'foo' with permissions-rw-r-r\n",
      "trying to create the process 'ls /tmp' for user'bar'\n"
     ]
    }
   ],
   "source": [
    "fs = FileServer()\n",
    "ps = ProcessServer()\n",
    "# boot\n",
    "boot = [i.boot() for i in (fs, ps)]\n",
    "fs.create_file('foo', 'hello', '-rw-r-r')\n",
    "ps.create_process('bar', 'ls /tmp')"
   ]
  },
  {
   "cell_type": "code",
   "execution_count": null,
   "metadata": {
    "collapsed": true
   },
   "outputs": [],
   "source": []
  },
  {
   "cell_type": "markdown",
   "metadata": {},
   "source": [
    "## hiding complexity using facade"
   ]
  },
  {
   "cell_type": "code",
   "execution_count": 8,
   "metadata": {
    "collapsed": true
   },
   "outputs": [],
   "source": [
    "from facade.ex1.pyos import OperatingSystem"
   ]
  },
  {
   "cell_type": "code",
   "execution_count": 9,
   "metadata": {
    "collapsed": false
   },
   "outputs": [
    {
     "name": "stdout",
     "output_type": "stream",
     "text": [
      "booting the FileServer\n",
      "booting the ProcessServer\n",
      "trying to create the file 'hello' for user 'foo' with permissions-rw-r-r\n",
      "trying to create the process 'ls /tmp' for user'bar'\n"
     ]
    }
   ],
   "source": [
    "# more descriptive\n",
    "os = OperatingSystem()\n",
    "os.start()\n",
    "os.create_file('foo', 'hello', '-rw-r-r')\n",
    "os.create_process('bar', 'ls /tmp')"
   ]
  },
  {
   "cell_type": "code",
   "execution_count": null,
   "metadata": {
    "collapsed": true
   },
   "outputs": [],
   "source": []
  }
 ],
 "metadata": {
  "kernelspec": {
   "display_name": "Python 2",
   "language": "python",
   "name": "python2"
  },
  "language_info": {
   "codemirror_mode": {
    "name": "ipython",
    "version": 2
   },
   "file_extension": ".py",
   "mimetype": "text/x-python",
   "name": "python",
   "nbconvert_exporter": "python",
   "pygments_lexer": "ipython2",
   "version": "2.7.5"
  }
 },
 "nbformat": 4,
 "nbformat_minor": 2
}
