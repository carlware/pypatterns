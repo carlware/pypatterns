{
 "cells": [
  {
   "cell_type": "markdown",
   "metadata": {},
   "source": [
    "## before"
   ]
  },
  {
   "cell_type": "code",
   "execution_count": null,
   "metadata": {
    "collapsed": true
   },
   "outputs": [],
   "source": [
    "from builder.before import Computer"
   ]
  },
  {
   "cell_type": "code",
   "execution_count": null,
   "metadata": {
    "collapsed": false
   },
   "outputs": [],
   "source": [
    "computer = Computer(case='Coolermaster N300',\n",
    "                    mainboard='MSI 970',\n",
    "                    cpu='Intel Core i7-4770',\n",
    "                    memory='Corsair Vengeance 16GB',\n",
    "                    hard_drive='Seagate 2TB',\n",
    "                    video_card='GeForce GTX 1070'\n",
    "                    )\n",
    "\n",
    "computer.display()"
   ]
  },
  {
   "cell_type": "code",
   "execution_count": null,
   "metadata": {
    "collapsed": true
   },
   "outputs": [],
   "source": []
  },
  {
   "cell_type": "markdown",
   "metadata": {},
   "source": [
    "## fixing\n",
    "- long parameter list\n",
    "\n",
    "### pending (problems)\n",
    "- ordering\n",
    "- encapsulating"
   ]
  },
  {
   "cell_type": "code",
   "execution_count": null,
   "metadata": {
    "collapsed": true
   },
   "outputs": [],
   "source": [
    "from builder.b0 import Computer"
   ]
  },
  {
   "cell_type": "code",
   "execution_count": null,
   "metadata": {
    "collapsed": false
   },
   "outputs": [],
   "source": [
    "computer =  Computer()\n",
    "computer.case = 'Coolermaster N300'\n",
    "computer.mainboard = 'MSI 970'\n",
    "computer.cpu = 'Intel Core i7-4770'\n",
    "computer.memory = 'Corsair Vengeance 16GB'\n",
    "computer.hard_drive = 'Seagate 2TB'\n",
    "computer.video_card = 'GeForce GTX 1070'\n",
    "\n",
    "computer.display()"
   ]
  },
  {
   "cell_type": "code",
   "execution_count": null,
   "metadata": {
    "collapsed": true
   },
   "outputs": [],
   "source": []
  },
  {
   "cell_type": "markdown",
   "metadata": {},
   "source": [
    "## fixing 2\n",
    "- encapsulating\n",
    "\n",
    "### problems\n",
    "- ordering"
   ]
  },
  {
   "cell_type": "code",
   "execution_count": null,
   "metadata": {
    "collapsed": true
   },
   "outputs": [],
   "source": [
    "from builder.b1 import CustomComputer"
   ]
  },
  {
   "cell_type": "code",
   "execution_count": null,
   "metadata": {
    "collapsed": false
   },
   "outputs": [],
   "source": [
    "builder = CustomComputer()\n",
    "builder.build_computer()\n",
    "computer = builder.get_computer()\n",
    "computer.display()"
   ]
  },
  {
   "cell_type": "code",
   "execution_count": null,
   "metadata": {
    "collapsed": true
   },
   "outputs": [],
   "source": []
  },
  {
   "cell_type": "markdown",
   "metadata": {},
   "source": [
    "### addressing ordering"
   ]
  },
  {
   "cell_type": "code",
   "execution_count": null,
   "metadata": {
    "collapsed": true
   },
   "outputs": [],
   "source": [
    "from builder.b2 import ComputerBuilder"
   ]
  },
  {
   "cell_type": "code",
   "execution_count": null,
   "metadata": {
    "collapsed": false
   },
   "outputs": [],
   "source": [
    "builder = ComputerBuilder()\n",
    "builder.build_computer()\n",
    "computer = builder.get_computer()\n",
    "computer.display()"
   ]
  },
  {
   "cell_type": "code",
   "execution_count": null,
   "metadata": {
    "collapsed": true
   },
   "outputs": [],
   "source": []
  },
  {
   "cell_type": "markdown",
   "metadata": {},
   "source": [
    "## with director"
   ]
  },
  {
   "cell_type": "code",
   "execution_count": null,
   "metadata": {
    "collapsed": true
   },
   "outputs": [],
   "source": [
    "from builder.after import Director, MyComputerBuilder, BudgetBoxBuilder"
   ]
  },
  {
   "cell_type": "code",
   "execution_count": null,
   "metadata": {
    "collapsed": false
   },
   "outputs": [],
   "source": [
    "director = Director(MyComputerBuilder())\n",
    "director.build_computer()\n",
    "computer = director.get_computer()\n",
    "computer.display()"
   ]
  },
  {
   "cell_type": "code",
   "execution_count": null,
   "metadata": {
    "collapsed": false
   },
   "outputs": [],
   "source": [
    "director = Director(BudgetBoxBuilder())\n",
    "director.build_computer()\n",
    "computer = director.get_computer()\n",
    "computer.display()"
   ]
  },
  {
   "cell_type": "markdown",
   "metadata": {},
   "source": [
    "## Assigment"
   ]
  },
  {
   "cell_type": "code",
   "execution_count": 2,
   "metadata": {
    "collapsed": true
   },
   "outputs": [],
   "source": [
    "from builder.assignment import MyPizza, PizzaMaker"
   ]
  },
  {
   "cell_type": "code",
   "execution_count": 3,
   "metadata": {
    "collapsed": false
   },
   "outputs": [
    {
     "name": "stdout",
     "output_type": "stream",
     "text": [
      "Handmade Pizza:\n",
      "\t     Crust: Whole wheat\n",
      "\t     Sauce: Tomato\n",
      "\t      Meat: Sausage and Peperoni\n",
      "\t    Vegies: Tomatoes and olives\n",
      "\t   Topping: Mozarella\n"
     ]
    }
   ],
   "source": [
    "maker = PizzaMaker(MyPizza())\n",
    "maker.make_pizza()\n",
    "pizza = maker.get_pizza()\n",
    "pizza.display()"
   ]
  },
  {
   "cell_type": "code",
   "execution_count": null,
   "metadata": {
    "collapsed": true
   },
   "outputs": [],
   "source": []
  },
  {
   "cell_type": "code",
   "execution_count": null,
   "metadata": {
    "collapsed": true
   },
   "outputs": [],
   "source": []
  },
  {
   "cell_type": "code",
   "execution_count": null,
   "metadata": {
    "collapsed": true
   },
   "outputs": [],
   "source": []
  }
 ],
 "metadata": {
  "kernelspec": {
   "display_name": "Python 2",
   "language": "python",
   "name": "python2"
  },
  "language_info": {
   "codemirror_mode": {
    "name": "ipython",
    "version": 2
   },
   "file_extension": ".py",
   "mimetype": "text/x-python",
   "name": "python",
   "nbconvert_exporter": "python",
   "pygments_lexer": "ipython2",
   "version": "2.7.5"
  }
 },
 "nbformat": 4,
 "nbformat_minor": 1
}
