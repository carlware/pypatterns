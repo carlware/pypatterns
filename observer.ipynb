{
 "cells": [
  {
   "cell_type": "markdown",
   "metadata": {},
   "source": [
    "## before"
   ]
  },
  {
   "cell_type": "code",
   "execution_count": null,
   "metadata": {
    "collapsed": true
   },
   "outputs": [],
   "source": [
    "from observer.before import run"
   ]
  },
  {
   "cell_type": "code",
   "execution_count": null,
   "metadata": {
    "collapsed": false
   },
   "outputs": [],
   "source": [
    "run()"
   ]
  },
  {
   "cell_type": "code",
   "execution_count": null,
   "metadata": {
    "collapsed": true
   },
   "outputs": [],
   "source": []
  },
  {
   "cell_type": "markdown",
   "metadata": {},
   "source": [
    "## classic observer"
   ]
  },
  {
   "cell_type": "code",
   "execution_count": 1,
   "metadata": {
    "collapsed": true
   },
   "outputs": [],
   "source": [
    "from observer.classic import KPIs, CurrentKPIs, ForecastKPIs"
   ]
  },
  {
   "cell_type": "code",
   "execution_count": 2,
   "metadata": {
    "collapsed": false
   },
   "outputs": [
    {
     "name": "stdout",
     "output_type": "stream",
     "text": [
      "Current open tickets: 25\n",
      "New tickets in last hour: 10\n",
      "Tickets closed in last hour: 5\n",
      "*****\n",
      "\n",
      "Forecast open tickets: 25\n",
      "New tickets expected in next hour: 10\n",
      "Tickets expected to be closed in next hour: 5\n",
      "*****\n",
      "\n",
      "Current open tickets: 100\n",
      "New tickets in last hour: 50\n",
      "Tickets closed in last hour: 30\n",
      "*****\n",
      "\n",
      "Forecast open tickets: 100\n",
      "New tickets expected in next hour: 50\n",
      "Tickets expected to be closed in next hour: 30\n",
      "*****\n",
      "\n",
      "Current open tickets: 50\n",
      "New tickets in last hour: 10\n",
      "Tickets closed in last hour: 20\n",
      "*****\n",
      "\n",
      "Forecast open tickets: 50\n",
      "New tickets expected in next hour: 10\n",
      "Tickets expected to be closed in next hour: 20\n",
      "*****\n",
      "\n",
      "\n",
      "***Detaching the currentKPIs observer.***\n",
      "\n",
      "\n",
      "Forecast open tickets: 150\n",
      "New tickets expected in next hour: 110\n",
      "Tickets expected to be closed in next hour: 120\n",
      "*****\n",
      "\n"
     ]
    }
   ],
   "source": [
    "# subject\n",
    "kpis = KPIs()\n",
    "# observers\n",
    "currentKPIs = CurrentKPIs(kpis)\n",
    "forecastKPIs = ForecastKPIs(kpis)\n",
    "\n",
    "# each call notify the observer\n",
    "kpis.set_kpis(25, 10, 5)\n",
    "kpis.set_kpis(100, 50, 30)\n",
    "kpis.set_kpis(50, 10, 20)\n",
    "\n",
    "print ('\\n***Detaching the currentKPIs observer.***\\n\\n')\n",
    "kpis.detach(currentKPIs)\n",
    "kpis.set_kpis(150, 110, 120)"
   ]
  },
  {
   "cell_type": "code",
   "execution_count": null,
   "metadata": {
    "collapsed": true
   },
   "outputs": [],
   "source": []
  }
 ],
 "metadata": {
  "kernelspec": {
   "display_name": "Python 2",
   "language": "python",
   "name": "python2"
  },
  "language_info": {
   "codemirror_mode": {
    "name": "ipython",
    "version": 2
   },
   "file_extension": ".py",
   "mimetype": "text/x-python",
   "name": "python",
   "nbconvert_exporter": "python",
   "pygments_lexer": "ipython2",
   "version": "2.7.5"
  }
 },
 "nbformat": 4,
 "nbformat_minor": 1
}
