{
 "cells": [
  {
   "cell_type": "markdown",
   "metadata": {},
   "source": [
    "# before"
   ]
  },
  {
   "cell_type": "code",
   "execution_count": null,
   "metadata": {
    "collapsed": true
   },
   "outputs": [],
   "source": [
    "from factory.before import ChevyVolt, FordFocus, JeepSahara, NullCar"
   ]
  },
  {
   "cell_type": "markdown",
   "metadata": {},
   "source": [
    "### issues\n",
    "- open close principle\n",
    "- dependecy inversion principle"
   ]
  },
  {
   "cell_type": "code",
   "execution_count": null,
   "metadata": {
    "collapsed": false
   },
   "outputs": [],
   "source": [
    "def getcar(carname):\n",
    "    if carname == 'Chevy':\n",
    "        return ChevyVolt()\n",
    "    elif carname == 'Ford':\n",
    "        return FordFocus()\n",
    "    elif carname == 'Jeep':\n",
    "        return JeepSahara()\n",
    "    else:\n",
    "        return NullCar(carname)\n",
    "\n",
    "for carname in 'Chevy', 'Ford', 'Jeep', 'Tesla':\n",
    "    car = getcar(carname)\n",
    "    car.start()\n",
    "    car.stop()"
   ]
  },
  {
   "cell_type": "code",
   "execution_count": null,
   "metadata": {
    "collapsed": true
   },
   "outputs": [],
   "source": []
  },
  {
   "cell_type": "markdown",
   "metadata": {},
   "source": [
    "## simple"
   ]
  },
  {
   "cell_type": "code",
   "execution_count": null,
   "metadata": {
    "collapsed": true
   },
   "outputs": [],
   "source": [
    "from factory.simple import AutoFactory"
   ]
  },
  {
   "cell_type": "code",
   "execution_count": null,
   "metadata": {
    "collapsed": false
   },
   "outputs": [],
   "source": [
    "factory = AutoFactory()\n",
    "for carname in 'ChevyVolt', 'FordFocus', 'JeepSahara', 'Tesla P90D':\n",
    "    car = factory.create_auto(carname)\n",
    "    car.start()\n",
    "    car.stop()"
   ]
  },
  {
   "cell_type": "code",
   "execution_count": null,
   "metadata": {
    "collapsed": false
   },
   "outputs": [],
   "source": []
  },
  {
   "cell_type": "markdown",
   "metadata": {},
   "source": [
    "## classic implementation"
   ]
  },
  {
   "cell_type": "code",
   "execution_count": 1,
   "metadata": {
    "collapsed": true
   },
   "outputs": [],
   "source": [
    "from factory.factories import loader"
   ]
  },
  {
   "cell_type": "code",
   "execution_count": 2,
   "metadata": {
    "collapsed": false
   },
   "outputs": [
    {
     "name": "stdout",
     "output_type": "stream",
     "text": [
      "Chevrolet Volt running with shocking power!\n",
      "Chevrolet Volt shutting down.\n",
      "Jeep Saraha running ruggedly.\n",
      "Jeep Saraha shutting down.\n",
      "Cool Ford Focus running smoothly.\n",
      "Ford Focus shutting down.\n",
      "Unknown car \"Unknown\".\n"
     ]
    }
   ],
   "source": [
    "for factory_name in 'chevy_factory', 'jeep_factory', 'ford_factory', 'tesla_factory':\n",
    "\n",
    "    factory = loader.load_factory(factory_name)\n",
    "    car = factory.create_auto()\n",
    "\n",
    "    car.start()\n",
    "    car.stop()"
   ]
  },
  {
   "cell_type": "code",
   "execution_count": null,
   "metadata": {
    "collapsed": true
   },
   "outputs": [],
   "source": []
  },
  {
   "cell_type": "markdown",
   "metadata": {},
   "source": [
    "### assignment"
   ]
  },
  {
   "cell_type": "code",
   "execution_count": 3,
   "metadata": {
    "collapsed": false
   },
   "outputs": [
    {
     "name": "stdout",
     "output_type": "stream",
     "text": [
      "Sending invoice to SMB customer \"smb_cust\".\n",
      "Sending invoice to enterprise customer \"ent_cust\".\n",
      "Sending invoice to government customer \"gov_cust\".\n",
      "Customer type \"alien_cust\" not found.\n"
     ]
    }
   ],
   "source": [
    "from factory.assignment.cus_objects import loader\n",
    "\n",
    "for cust_type in 'smb_cust', 'ent_cust', 'gov_cust', 'alien_cust':\n",
    "    cust = loader.load_cust(cust_type)\n",
    "    cust.name = cust_type\n",
    "    cust.send_invoice()\n",
    "    "
   ]
  },
  {
   "cell_type": "code",
   "execution_count": null,
   "metadata": {
    "collapsed": true
   },
   "outputs": [],
   "source": []
  }
 ],
 "metadata": {
  "kernelspec": {
   "display_name": "Python 2",
   "language": "python",
   "name": "python2"
  },
  "language_info": {
   "codemirror_mode": {
    "name": "ipython",
    "version": 2
   },
   "file_extension": ".py",
   "mimetype": "text/x-python",
   "name": "python",
   "nbconvert_exporter": "python",
   "pygments_lexer": "ipython2",
   "version": "2.7.5"
  }
 },
 "nbformat": 4,
 "nbformat_minor": 1
}
