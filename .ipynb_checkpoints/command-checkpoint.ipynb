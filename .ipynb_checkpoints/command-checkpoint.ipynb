{
 "cells": [
  {
   "cell_type": "markdown",
   "metadata": {},
   "source": [
    "## Command"
   ]
  },
  {
   "cell_type": "code",
   "execution_count": null,
   "metadata": {
    "collapsed": true
   },
   "outputs": [],
   "source": [
    "from command.before import CommandExecutor"
   ]
  },
  {
   "cell_type": "code",
   "execution_count": null,
   "metadata": {
    "collapsed": false
   },
   "outputs": [],
   "source": [
    "executor = CommandExecutor()\n",
    "executor.execute_command(['UpdateQuantity', '3.14159'])\n"
   ]
  },
  {
   "cell_type": "code",
   "execution_count": null,
   "metadata": {
    "collapsed": true
   },
   "outputs": [],
   "source": []
  },
  {
   "cell_type": "code",
   "execution_count": null,
   "metadata": {
    "collapsed": true
   },
   "outputs": [],
   "source": []
  },
  {
   "cell_type": "markdown",
   "metadata": {},
   "source": [
    "## Command after"
   ]
  },
  {
   "cell_type": "code",
   "execution_count": null,
   "metadata": {
    "collapsed": true
   },
   "outputs": [],
   "source": [
    "from command.after import get_commands, parse_command"
   ]
  },
  {
   "cell_type": "code",
   "execution_count": null,
   "metadata": {
    "collapsed": true
   },
   "outputs": [],
   "source": [
    "commands = get_commands()"
   ]
  },
  {
   "cell_type": "code",
   "execution_count": null,
   "metadata": {
    "collapsed": true
   },
   "outputs": [],
   "source": [
    "command = parse_command(commands, ['UpdateOrder', '3.14159'])"
   ]
  },
  {
   "cell_type": "code",
   "execution_count": null,
   "metadata": {
    "collapsed": false
   },
   "outputs": [],
   "source": [
    "command.execute()"
   ]
  },
  {
   "cell_type": "code",
   "execution_count": null,
   "metadata": {
    "collapsed": false
   },
   "outputs": [],
   "source": [
    "commands"
   ]
  },
  {
   "cell_type": "code",
   "execution_count": null,
   "metadata": {
    "collapsed": true
   },
   "outputs": [],
   "source": []
  },
  {
   "cell_type": "markdown",
   "metadata": {},
   "source": [
    "## command assigment"
   ]
  },
  {
   "cell_type": "code",
   "execution_count": 2,
   "metadata": {
    "collapsed": false
   },
   "outputs": [],
   "source": [
    "from command.assigment import Appliance, Door, Security\n",
    "from command.assigment import ApplianceOnCommand, ApplianceOffCommand\n",
    "from command.assigment import DoorLockCommand, DoorUnlockCommand\n",
    "from command.assigment import SecurityArmCommand, SecurityDisarmCommand\n",
    "from command.assigment import MenuAction"
   ]
  },
  {
   "cell_type": "code",
   "execution_count": 3,
   "metadata": {
    "collapsed": true
   },
   "outputs": [],
   "source": [
    "menu_action = MenuAction()"
   ]
  },
  {
   "cell_type": "code",
   "execution_count": 4,
   "metadata": {
    "collapsed": false
   },
   "outputs": [],
   "source": [
    "frontdoor = Door('front')\n",
    "frontdoor_lock = DoorLockCommand(frontdoor)\n",
    "frontdoor_unlock = DoorUnlockCommand(frontdoor)\n",
    "\n",
    "blender = Appliance('blender')\n",
    "blender_on = ApplianceOnCommand(blender)\n",
    "blender_off = ApplianceOffCommand(blender)\n",
    "\n",
    "security = Security()\n",
    "security_on = SecurityArmCommand(security)\n",
    "security_off = SecurityDisarmCommand(security)"
   ]
  },
  {
   "cell_type": "code",
   "execution_count": 5,
   "metadata": {
    "collapsed": false
   },
   "outputs": [],
   "source": [
    "menu_action.set_command(frontdoor, frontdoor_lock, frontdoor_unlock)\n",
    "menu_action.set_command(blender, blender_on, blender_off)\n",
    "menu_action.set_command(security, security_on, security_off)"
   ]
  },
  {
   "cell_type": "code",
   "execution_count": null,
   "metadata": {
    "collapsed": false
   },
   "outputs": [],
   "source": []
  },
  {
   "cell_type": "code",
   "execution_count": 6,
   "metadata": {
    "collapsed": false
   },
   "outputs": [
    {
     "name": "stdout",
     "output_type": "stream",
     "text": [
      "front is locked.\n",
      "front is unlocked.\n",
      "front is unlocked.\n",
      "blender has been turned on.\n",
      "blender has been turned off.\n",
      "undo\n",
      "blender has been turned on.\n",
      "blender has been turned off.\n",
      "front is locked.\n"
     ]
    }
   ],
   "source": [
    "# Try the commands with undo\n",
    "menu_action.activate(frontdoor)\n",
    "menu_action.deactivate(frontdoor)\n",
    "menu_action.deactivate(frontdoor)\n",
    "menu_action.activate(blender)\n",
    "menu_action.deactivate(blender)\n",
    "print(\"undo\")\n",
    "menu_action.undo()\n",
    "menu_action.undo()\n",
    "menu_action.undo()"
   ]
  },
  {
   "cell_type": "code",
   "execution_count": null,
   "metadata": {
    "collapsed": false
   },
   "outputs": [],
   "source": []
  },
  {
   "cell_type": "code",
   "execution_count": 7,
   "metadata": {
    "collapsed": false
   },
   "outputs": [
    {
     "name": "stdout",
     "output_type": "stream",
     "text": [
      "front is locked.\n",
      "front is unlocked.\n"
     ]
    }
   ],
   "source": [
    "# extra undos\n",
    "menu_action.undo()\n",
    "menu_action.undo()\n",
    "menu_action.undo()\n",
    "menu_action.undo()\n",
    "menu_action.undo()"
   ]
  },
  {
   "cell_type": "code",
   "execution_count": null,
   "metadata": {
    "collapsed": true
   },
   "outputs": [],
   "source": []
  }
 ],
 "metadata": {
  "kernelspec": {
   "display_name": "Python 2",
   "language": "python",
   "name": "python2"
  },
  "language_info": {
   "codemirror_mode": {
    "name": "ipython",
    "version": 2
   },
   "file_extension": ".py",
   "mimetype": "text/x-python",
   "name": "python",
   "nbconvert_exporter": "python",
   "pygments_lexer": "ipython2",
   "version": "2.7.5"
  }
 },
 "nbformat": 4,
 "nbformat_minor": 1
}
