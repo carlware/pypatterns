{
 "cells": [
  {
   "cell_type": "markdown",
   "metadata": {},
   "source": [
    "## before"
   ]
  },
  {
   "cell_type": "code",
   "execution_count": 4,
   "metadata": {
    "collapsed": true
   },
   "outputs": [],
   "source": [
    "from abstract_factory.before.factories.gm import ChevySpark, ChevyCamaro, CadillacCTS\n",
    "from abstract_factory.before.factories.ford import FordFiesta, FordMustang, LincolnMKS\n",
    "from random import randint"
   ]
  },
  {
   "cell_type": "code",
   "execution_count": 5,
   "metadata": {
    "collapsed": false
   },
   "outputs": [
    {
     "name": "stdout",
     "output_type": "stream",
     "text": [
      "Ford Mustang roaring and ready to go!\n",
      "Ford Mustang shutting down.\n"
     ]
    }
   ],
   "source": [
    "makers = ('gm', 'ford')\n",
    "editions = ('Econonmy', 'Sport', 'Luxury')\n",
    "maker = makers[randint(0, 1)]\n",
    "edition = editions[randint(0, 2)]\n",
    "\n",
    "if maker == 'gm':\n",
    "    if edition == 'Econonmy':\n",
    "        car = ChevySpark()\n",
    "    elif edition == 'Sport':\n",
    "        car = ChevyCamaro()\n",
    "    elif edition == 'Luxury':\n",
    "        car = CadillacCTS()\n",
    "    else:\n",
    "        raise ValueError(\"Unknown car\")\n",
    "elif maker == 'ford':\n",
    "    if edition == 'Econonmy':\n",
    "        car = FordFiesta()\n",
    "    elif edition == 'Sport':\n",
    "        car = FordMustang()\n",
    "    elif edition == 'Luxury':\n",
    "        car = LincolnMKS()\n",
    "    else:\n",
    "        raise ValueError(\"Unknown car.\")\n",
    "else:\n",
    "    raise ValueError(\"Unknown maker.\")\n",
    "\n",
    "car.start()\n",
    "car.stop()"
   ]
  },
  {
   "cell_type": "code",
   "execution_count": null,
   "metadata": {
    "collapsed": true
   },
   "outputs": [],
   "source": []
  },
  {
   "cell_type": "markdown",
   "metadata": {},
   "source": [
    "## after"
   ]
  },
  {
   "cell_type": "code",
   "execution_count": 6,
   "metadata": {
    "collapsed": true
   },
   "outputs": [],
   "source": [
    "from abstract_factory.after.factories.ford import FordFactory\n",
    "from abstract_factory.after.factories.gm import GMFactory"
   ]
  },
  {
   "cell_type": "code",
   "execution_count": 8,
   "metadata": {
    "collapsed": false
   },
   "outputs": [
    {
     "name": "stdout",
     "output_type": "stream",
     "text": [
      "Ford Fiesta running cheaply.\n",
      "Ford Fiestashutting down.\n",
      "Ford Mustang roaring and ready to go!\n",
      "Ford Mustang shutting down.\n",
      "Lincoln MKS running smoothly.\n",
      "Lincoln MKS shutting down.\n",
      "Chevy Spark running efficiently.\n",
      "Chevy Spark shutting down.\n",
      "Cadillac CTS purring luxuriously.\n",
      "Cadillac CTS shutting down.\n",
      "Chevy Camaro V8 sounding awesome!\n",
      "Chevy Camaro shutting down.\n"
     ]
    }
   ],
   "source": [
    "for factory in FordFactory(), GMFactory():\n",
    "    car = factory.create_economy()\n",
    "    car.start()\n",
    "    car.stop()\n",
    "    car = factory.create_sport()\n",
    "    car.start()\n",
    "    car.stop()\n",
    "    car = factory.create_luxury()\n",
    "    car.start()\n",
    "    car.stop()"
   ]
  },
  {
   "cell_type": "code",
   "execution_count": null,
   "metadata": {
    "collapsed": true
   },
   "outputs": [],
   "source": []
  },
  {
   "cell_type": "markdown",
   "metadata": {},
   "source": [
    "## assigment"
   ]
  },
  {
   "cell_type": "code",
   "execution_count": 9,
   "metadata": {
    "collapsed": true
   },
   "outputs": [],
   "source": [
    "from abstract_factory.assigment.factories.investor import InvestorFactory\n",
    "from abstract_factory.assigment.factories.saver import SaversFactory"
   ]
  },
  {
   "cell_type": "code",
   "execution_count": 10,
   "metadata": {
    "collapsed": false
   },
   "outputs": [
    {
     "name": "stdout",
     "output_type": "stream",
     "text": [
      "\"Acme Corp\" is a commercial investor.\n",
      "\"Prussia\" is a government investor.\n",
      "\"Douglas Adams\" is a retail investor.\n",
      "\"Acme Corp\" is a commercial saver.\n",
      "\"Prussia\" is a government saver.\n",
      "\"Douglas Adams\" is a retail saver.\n"
     ]
    }
   ],
   "source": [
    "for factory in InvestorFactory(), SaversFactory():\n",
    "    cust = factory.create_commercial()\n",
    "    cust = cust('Acme Corp')\n",
    "    cust.report_type()\n",
    "    cust = factory.create_government()\n",
    "    cust = cust('Prussia')\n",
    "    cust.report_type()\n",
    "    cust = factory.create_retail()\n",
    "    cust = cust('Douglas Adams')\n",
    "    cust.report_type()\n"
   ]
  },
  {
   "cell_type": "code",
   "execution_count": null,
   "metadata": {
    "collapsed": true
   },
   "outputs": [],
   "source": []
  }
 ],
 "metadata": {
  "kernelspec": {
   "display_name": "Python 2",
   "language": "python",
   "name": "python2"
  },
  "language_info": {
   "codemirror_mode": {
    "name": "ipython",
    "version": 2
   },
   "file_extension": ".py",
   "mimetype": "text/x-python",
   "name": "python",
   "nbconvert_exporter": "python",
   "pygments_lexer": "ipython2",
   "version": "2.7.5"
  }
 },
 "nbformat": 4,
 "nbformat_minor": 1
}
