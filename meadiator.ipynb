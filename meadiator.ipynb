{
 "cells": [
  {
   "cell_type": "markdown",
   "metadata": {},
   "source": [
    "## before"
   ]
  },
  {
   "cell_type": "code",
   "execution_count": null,
   "metadata": {
    "collapsed": true
   },
   "outputs": [],
   "source": [
    "from mediator.ui.before import ListItem, TextField"
   ]
  },
  {
   "cell_type": "code",
   "execution_count": null,
   "metadata": {
    "collapsed": false
   },
   "outputs": [],
   "source": [
    "text = TextField()\n",
    "li = ListItem()\n",
    "\n",
    "li.set_input_text(text)\n",
    "\n",
    "li.items.append('Item 0')\n",
    "li.items.append('Item 1')\n",
    "li.items.append('Item 2')\n",
    "\n",
    "li.select_item(1)\n",
    "print(\"Item selected: \" + text.text)"
   ]
  },
  {
   "cell_type": "code",
   "execution_count": null,
   "metadata": {
    "collapsed": true
   },
   "outputs": [],
   "source": []
  },
  {
   "cell_type": "markdown",
   "metadata": {},
   "source": [
    "Problems found\n",
    "* coupled (Maybe not all list items need to have text field)"
   ]
  },
  {
   "cell_type": "code",
   "execution_count": 1,
   "metadata": {
    "collapsed": true
   },
   "outputs": [],
   "source": [
    "from mediator.ui.after import TextField, ListItem, MediatorListTextInput"
   ]
  },
  {
   "cell_type": "code",
   "execution_count": 2,
   "metadata": {
    "collapsed": false
   },
   "outputs": [
    {
     "name": "stdout",
     "output_type": "stream",
     "text": [
      "Item selected: Item 1\n"
     ]
    }
   ],
   "source": [
    "text = TextField()\n",
    "me = MediatorListTextInput()\n",
    "me.set_text_input(text)\n",
    "\n",
    "li = ListItem()\n",
    "li.set_mediator(me)\n",
    "\n",
    "li.items.append('Item 0')\n",
    "li.items.append('Item 1')\n",
    "li.items.append('Item 2')\n",
    "\n",
    "li.select_item(1)\n",
    "print(\"Item selected: \" + text.text)"
   ]
  },
  {
   "cell_type": "code",
   "execution_count": null,
   "metadata": {
    "collapsed": true
   },
   "outputs": [],
   "source": []
  }
 ],
 "metadata": {
  "kernelspec": {
   "display_name": "Python 2",
   "language": "python",
   "name": "python2"
  },
  "language_info": {
   "codemirror_mode": {
    "name": "ipython",
    "version": 2
   },
   "file_extension": ".py",
   "mimetype": "text/x-python",
   "name": "python",
   "nbconvert_exporter": "python",
   "pygments_lexer": "ipython2",
   "version": "2.7.5"
  }
 },
 "nbformat": 4,
 "nbformat_minor": 2
}
