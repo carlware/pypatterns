{
 "cells": [
  {
   "cell_type": "code",
   "execution_count": null,
   "metadata": {
    "collapsed": true
   },
   "outputs": [],
   "source": [
    "from strategy.before import Order, Shipper, ShippingCost"
   ]
  },
  {
   "cell_type": "markdown",
   "metadata": {},
   "source": [
    "## before"
   ]
  },
  {
   "cell_type": "code",
   "execution_count": null,
   "metadata": {
    "collapsed": true
   },
   "outputs": [],
   "source": [
    "order = Order(Shipper.fedex)\n",
    "cost_calulator = ShippingCost()\n",
    "cost = cost_calulator.shipping_cost(order)\n",
    "assert cost == 3.0\n",
    "\n",
    "# Test UPS shipping\n",
    "\n",
    "order = Order(Shipper.ups)\n",
    "cost_calulator = ShippingCost()\n",
    "cost = cost_calulator.shipping_cost(order)\n",
    "assert cost == 4.0\n",
    "\n",
    "# Test Postal Service shipping\n",
    "\n",
    "order = Order(Shipper.postal)\n",
    "cost_calulator = ShippingCost()\n",
    "cost = cost_calulator.shipping_cost(order)\n",
    "assert cost == 5.0"
   ]
  },
  {
   "cell_type": "code",
   "execution_count": null,
   "metadata": {
    "collapsed": true
   },
   "outputs": [],
   "source": []
  },
  {
   "cell_type": "markdown",
   "metadata": {},
   "source": [
    "# strategy"
   ]
  },
  {
   "cell_type": "code",
   "execution_count": 3,
   "metadata": {
    "collapsed": false
   },
   "outputs": [],
   "source": [
    "from strategy.after import Order, Postal, UPS, Fedex, ShippingCost"
   ]
  },
  {
   "cell_type": "code",
   "execution_count": 4,
   "metadata": {
    "collapsed": false
   },
   "outputs": [],
   "source": [
    "order = Order()\n",
    "strategy = Fedex()\n",
    "cost_calulator = ShippingCost(strategy)\n",
    "cost = cost_calulator.cost(order)\n",
    "assert cost == 3.0\n",
    "\n",
    "\n",
    "order = Order()\n",
    "strategy = UPS()\n",
    "cost_calulator = ShippingCost(strategy)\n",
    "cost = cost_calulator.cost(order)\n",
    "assert cost == 4.0\n",
    "\n",
    "\n",
    "order = Order()\n",
    "strategy = Postal()\n",
    "cost_calulator = ShippingCost(strategy)\n",
    "cost = cost_calulator.cost(order)\n",
    "assert cost == 5.0"
   ]
  },
  {
   "cell_type": "code",
   "execution_count": null,
   "metadata": {
    "collapsed": true
   },
   "outputs": [],
   "source": []
  }
 ],
 "metadata": {
  "kernelspec": {
   "display_name": "Python 2",
   "language": "python",
   "name": "python2"
  },
  "language_info": {
   "codemirror_mode": {
    "name": "ipython",
    "version": 2
   },
   "file_extension": ".py",
   "mimetype": "text/x-python",
   "name": "python",
   "nbconvert_exporter": "python",
   "pygments_lexer": "ipython2",
   "version": "2.7.5"
  }
 },
 "nbformat": 4,
 "nbformat_minor": 1
}
