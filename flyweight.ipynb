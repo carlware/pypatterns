{
 "cells": [
  {
   "cell_type": "markdown",
   "metadata": {},
   "source": [
    "## Flyweight letters example"
   ]
  },
  {
   "cell_type": "markdown",
   "metadata": {},
   "source": [
    "use to reduce object instances"
   ]
  },
  {
   "cell_type": "code",
   "execution_count": 1,
   "metadata": {
    "collapsed": true
   },
   "outputs": [],
   "source": [
    "from flyweight.letters.client import Client"
   ]
  },
  {
   "cell_type": "code",
   "execution_count": 2,
   "metadata": {
    "collapsed": false
   },
   "outputs": [
    {
     "name": "stdout",
     "output_type": "stream",
     "text": [
      "new letter \"H\" created\n",
      "new letter \"e\" created\n",
      "new letter \"l\" created\n",
      "new letter \"o\" created\n",
      "new letter \" \" created\n",
      "new letter \"w\" created\n",
      "new letter \"r\" created\n",
      "new letter \"d\" created\n",
      "new letter \"b\" created\n",
      "new letter \"u\" created\n",
      "new letter \"y\" created\n",
      "new letter \",\" created\n",
      "new letter \"I\" created\n",
      "new letter \"a\" created\n",
      "new letter \"m\" created\n",
      "new letter \"z\" created\n",
      "Hello word buddy, I am lazy\n"
     ]
    }
   ],
   "source": [
    "client = Client('Hello word buddy, I am lazy')\n",
    "client.print_text()"
   ]
  },
  {
   "cell_type": "code",
   "execution_count": null,
   "metadata": {
    "collapsed": true
   },
   "outputs": [],
   "source": []
  },
  {
   "cell_type": "markdown",
   "metadata": {},
   "source": [
    "## tree example"
   ]
  },
  {
   "cell_type": "code",
   "execution_count": 3,
   "metadata": {
    "collapsed": true
   },
   "outputs": [],
   "source": [
    "from flyweight.trees.client import TreeClient"
   ]
  },
  {
   "cell_type": "code",
   "execution_count": 4,
   "metadata": {
    "collapsed": false
   },
   "outputs": [
    {
     "name": "stdout",
     "output_type": "stream",
     "text": [
      "render a tree of type 0 and age 11 at (33,97)\n",
      "render a tree of type 0 and age 18 at (89,95)\n",
      "render a tree of type 0 and age 1 at (11,85)\n",
      "render a tree of type 0 and age 28 at (68,53)\n",
      "render a tree of type 0 and age 25 at (44,91)\n",
      "render a tree of type 0 and age 1 at (4,39)\n",
      "render a tree of type 0 and age 3 at (55,14)\n",
      "render a tree of type 0 and age 19 at (84,66)\n",
      "render a tree of type 0 and age 23 at (6,28)\n",
      "render a tree of type 0 and age 9 at (83,58)\n",
      "render a tree of type 1 and age 23 at (52,6)\n",
      "render a tree of type 1 and age 4 at (70,46)\n",
      "render a tree of type 1 and age 4 at (26,81)\n",
      "render a tree of type 2 and age 26 at (10,43)\n",
      "render a tree of type 2 and age 21 at (48,72)\n",
      "render a tree of type 2 and age 2 at (3,0)\n",
      "render a tree of type 2 and age 7 at (7,3)\n",
      "render a tree of type 2 and age 18 at (93,13)\n",
      "trees rendered: 18\n",
      "trees actually created: 3\n"
     ]
    }
   ],
   "source": [
    "client = TreeClient(1, 30, 0, 100)\n",
    "client.run()"
   ]
  },
  {
   "cell_type": "code",
   "execution_count": null,
   "metadata": {
    "collapsed": true
   },
   "outputs": [],
   "source": []
  }
 ],
 "metadata": {
  "kernelspec": {
   "display_name": "Python 2",
   "language": "python",
   "name": "python2"
  },
  "language_info": {
   "codemirror_mode": {
    "name": "ipython",
    "version": 2
   },
   "file_extension": ".py",
   "mimetype": "text/x-python",
   "name": "python",
   "nbconvert_exporter": "python",
   "pygments_lexer": "ipython2",
   "version": "2.7.5"
  }
 },
 "nbformat": 4,
 "nbformat_minor": 2
}
